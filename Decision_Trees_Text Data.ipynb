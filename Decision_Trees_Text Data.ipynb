{
  "nbformat": 4,
  "nbformat_minor": 0,
  "metadata": {
    "colab": {
      "name": "Decision Trees - ADS 504 - 2.2.ipynb",
      "provenance": []
    },
    "kernelspec": {
      "name": "python3",
      "display_name": "Python 3"
    },
    "language_info": {
      "name": "python"
    }
  },
  "cells": [
    {
      "cell_type": "markdown",
      "source": [
        "# **Decision Trees**\n",
        "\n",
        "# **2.2** ***Text Data:***"
      ],
      "metadata": {
        "id": "-AbTE8CDS3Ei"
      }
    },
    {
      "cell_type": "code",
      "source": [
        "import seaborn as sns\n",
        "import pandas as pd\n",
        "import numpy as np\n",
        "import matplotlib.pyplot as plt\n",
        "import matplotlib.pylab as pylab\n",
        "\n",
        "%matplotlib inline \n",
        "\n",
        "from sklearn import tree\n",
        "from sklearn.preprocessing import OrdinalEncoder\n",
        "from sklearn import preprocessing\n",
        "\n",
        "from sklearn.model_selection import train_test_split\n",
        "from sklearn.metrics import confusion_matrix, accuracy_score"
      ],
      "metadata": {
        "id": "YRJACX6pU8n6"
      },
      "execution_count": null,
      "outputs": []
    },
    {
      "cell_type": "code",
      "execution_count": null,
      "metadata": {
        "colab": {
          "base_uri": "https://localhost:8080/",
          "height": 637
        },
        "id": "0vlGENQYRvqY",
        "outputId": "b38666eb-8c1e-4418-f1d2-e9720dbb83c7"
      },
      "outputs": [
        {
          "output_type": "execute_result",
          "data": {
            "text/plain": [
              "   Unnamed: 0 meta_author                                         meta_title  \\\n",
              "0           0    hamilton  general introduction for the independent journ...   \n",
              "1           1         jay  concerning dangers from foreign force and infl...   \n",
              "2           2         jay  the same subject continued concerning dangers ...   \n",
              "3           3         jay  the same subject continued concerning dangers ...   \n",
              "4           4         jay  the same subject continued concerning dangers ...   \n",
              "\n",
              "   000  10  11  13  136  13th  1648  ...  yielding  yoke  yokes  york  young  \\\n",
              "0    0   0   0   0    0     0     0  ...         0     0      0     1      0   \n",
              "1    0   0   0   0    0     0     0  ...         0     0      0     1      0   \n",
              "2    0   0   0   0    0     0     0  ...         0     0      0     1      0   \n",
              "3    0   0   0   0    0     0     0  ...         0     0      0     1      0   \n",
              "4    0   0   0   0    0     0     0  ...         0     0      0     1      1   \n",
              "\n",
              "   yourselves  zaleucus  zeal  zealand  zealous  \n",
              "0           0         0     3        0        0  \n",
              "1           0         0     0        0        0  \n",
              "2           0         0     0        0        0  \n",
              "3           0         0     0        0        0  \n",
              "4           1         0     0        0        0  \n",
              "\n",
              "[5 rows x 8563 columns]"
            ],
            "text/html": [
              "\n",
              "  <div id=\"df-38ff3c5c-7bcf-4f94-8565-f3728491bdcb\">\n",
              "    <div class=\"colab-df-container\">\n",
              "      <div>\n",
              "<style scoped>\n",
              "    .dataframe tbody tr th:only-of-type {\n",
              "        vertical-align: middle;\n",
              "    }\n",
              "\n",
              "    .dataframe tbody tr th {\n",
              "        vertical-align: top;\n",
              "    }\n",
              "\n",
              "    .dataframe thead th {\n",
              "        text-align: right;\n",
              "    }\n",
              "</style>\n",
              "<table border=\"1\" class=\"dataframe\">\n",
              "  <thead>\n",
              "    <tr style=\"text-align: right;\">\n",
              "      <th></th>\n",
              "      <th>Unnamed: 0</th>\n",
              "      <th>meta_author</th>\n",
              "      <th>meta_title</th>\n",
              "      <th>000</th>\n",
              "      <th>10</th>\n",
              "      <th>11</th>\n",
              "      <th>13</th>\n",
              "      <th>136</th>\n",
              "      <th>13th</th>\n",
              "      <th>1648</th>\n",
              "      <th>...</th>\n",
              "      <th>yielding</th>\n",
              "      <th>yoke</th>\n",
              "      <th>yokes</th>\n",
              "      <th>york</th>\n",
              "      <th>young</th>\n",
              "      <th>yourselves</th>\n",
              "      <th>zaleucus</th>\n",
              "      <th>zeal</th>\n",
              "      <th>zealand</th>\n",
              "      <th>zealous</th>\n",
              "    </tr>\n",
              "  </thead>\n",
              "  <tbody>\n",
              "    <tr>\n",
              "      <th>0</th>\n",
              "      <td>0</td>\n",
              "      <td>hamilton</td>\n",
              "      <td>general introduction for the independent journ...</td>\n",
              "      <td>0</td>\n",
              "      <td>0</td>\n",
              "      <td>0</td>\n",
              "      <td>0</td>\n",
              "      <td>0</td>\n",
              "      <td>0</td>\n",
              "      <td>0</td>\n",
              "      <td>...</td>\n",
              "      <td>0</td>\n",
              "      <td>0</td>\n",
              "      <td>0</td>\n",
              "      <td>1</td>\n",
              "      <td>0</td>\n",
              "      <td>0</td>\n",
              "      <td>0</td>\n",
              "      <td>3</td>\n",
              "      <td>0</td>\n",
              "      <td>0</td>\n",
              "    </tr>\n",
              "    <tr>\n",
              "      <th>1</th>\n",
              "      <td>1</td>\n",
              "      <td>jay</td>\n",
              "      <td>concerning dangers from foreign force and infl...</td>\n",
              "      <td>0</td>\n",
              "      <td>0</td>\n",
              "      <td>0</td>\n",
              "      <td>0</td>\n",
              "      <td>0</td>\n",
              "      <td>0</td>\n",
              "      <td>0</td>\n",
              "      <td>...</td>\n",
              "      <td>0</td>\n",
              "      <td>0</td>\n",
              "      <td>0</td>\n",
              "      <td>1</td>\n",
              "      <td>0</td>\n",
              "      <td>0</td>\n",
              "      <td>0</td>\n",
              "      <td>0</td>\n",
              "      <td>0</td>\n",
              "      <td>0</td>\n",
              "    </tr>\n",
              "    <tr>\n",
              "      <th>2</th>\n",
              "      <td>2</td>\n",
              "      <td>jay</td>\n",
              "      <td>the same subject continued concerning dangers ...</td>\n",
              "      <td>0</td>\n",
              "      <td>0</td>\n",
              "      <td>0</td>\n",
              "      <td>0</td>\n",
              "      <td>0</td>\n",
              "      <td>0</td>\n",
              "      <td>0</td>\n",
              "      <td>...</td>\n",
              "      <td>0</td>\n",
              "      <td>0</td>\n",
              "      <td>0</td>\n",
              "      <td>1</td>\n",
              "      <td>0</td>\n",
              "      <td>0</td>\n",
              "      <td>0</td>\n",
              "      <td>0</td>\n",
              "      <td>0</td>\n",
              "      <td>0</td>\n",
              "    </tr>\n",
              "    <tr>\n",
              "      <th>3</th>\n",
              "      <td>3</td>\n",
              "      <td>jay</td>\n",
              "      <td>the same subject continued concerning dangers ...</td>\n",
              "      <td>0</td>\n",
              "      <td>0</td>\n",
              "      <td>0</td>\n",
              "      <td>0</td>\n",
              "      <td>0</td>\n",
              "      <td>0</td>\n",
              "      <td>0</td>\n",
              "      <td>...</td>\n",
              "      <td>0</td>\n",
              "      <td>0</td>\n",
              "      <td>0</td>\n",
              "      <td>1</td>\n",
              "      <td>0</td>\n",
              "      <td>0</td>\n",
              "      <td>0</td>\n",
              "      <td>0</td>\n",
              "      <td>0</td>\n",
              "      <td>0</td>\n",
              "    </tr>\n",
              "    <tr>\n",
              "      <th>4</th>\n",
              "      <td>4</td>\n",
              "      <td>jay</td>\n",
              "      <td>the same subject continued concerning dangers ...</td>\n",
              "      <td>0</td>\n",
              "      <td>0</td>\n",
              "      <td>0</td>\n",
              "      <td>0</td>\n",
              "      <td>0</td>\n",
              "      <td>0</td>\n",
              "      <td>0</td>\n",
              "      <td>...</td>\n",
              "      <td>0</td>\n",
              "      <td>0</td>\n",
              "      <td>0</td>\n",
              "      <td>1</td>\n",
              "      <td>1</td>\n",
              "      <td>1</td>\n",
              "      <td>0</td>\n",
              "      <td>0</td>\n",
              "      <td>0</td>\n",
              "      <td>0</td>\n",
              "    </tr>\n",
              "  </tbody>\n",
              "</table>\n",
              "<p>5 rows × 8563 columns</p>\n",
              "</div>\n",
              "      <button class=\"colab-df-convert\" onclick=\"convertToInteractive('df-38ff3c5c-7bcf-4f94-8565-f3728491bdcb')\"\n",
              "              title=\"Convert this dataframe to an interactive table.\"\n",
              "              style=\"display:none;\">\n",
              "        \n",
              "  <svg xmlns=\"http://www.w3.org/2000/svg\" height=\"24px\"viewBox=\"0 0 24 24\"\n",
              "       width=\"24px\">\n",
              "    <path d=\"M0 0h24v24H0V0z\" fill=\"none\"/>\n",
              "    <path d=\"M18.56 5.44l.94 2.06.94-2.06 2.06-.94-2.06-.94-.94-2.06-.94 2.06-2.06.94zm-11 1L8.5 8.5l.94-2.06 2.06-.94-2.06-.94L8.5 2.5l-.94 2.06-2.06.94zm10 10l.94 2.06.94-2.06 2.06-.94-2.06-.94-.94-2.06-.94 2.06-2.06.94z\"/><path d=\"M17.41 7.96l-1.37-1.37c-.4-.4-.92-.59-1.43-.59-.52 0-1.04.2-1.43.59L10.3 9.45l-7.72 7.72c-.78.78-.78 2.05 0 2.83L4 21.41c.39.39.9.59 1.41.59.51 0 1.02-.2 1.41-.59l7.78-7.78 2.81-2.81c.8-.78.8-2.07 0-2.86zM5.41 20L4 18.59l7.72-7.72 1.47 1.35L5.41 20z\"/>\n",
              "  </svg>\n",
              "      </button>\n",
              "      \n",
              "  <style>\n",
              "    .colab-df-container {\n",
              "      display:flex;\n",
              "      flex-wrap:wrap;\n",
              "      gap: 12px;\n",
              "    }\n",
              "\n",
              "    .colab-df-convert {\n",
              "      background-color: #E8F0FE;\n",
              "      border: none;\n",
              "      border-radius: 50%;\n",
              "      cursor: pointer;\n",
              "      display: none;\n",
              "      fill: #1967D2;\n",
              "      height: 32px;\n",
              "      padding: 0 0 0 0;\n",
              "      width: 32px;\n",
              "    }\n",
              "\n",
              "    .colab-df-convert:hover {\n",
              "      background-color: #E2EBFA;\n",
              "      box-shadow: 0px 1px 2px rgba(60, 64, 67, 0.3), 0px 1px 3px 1px rgba(60, 64, 67, 0.15);\n",
              "      fill: #174EA6;\n",
              "    }\n",
              "\n",
              "    [theme=dark] .colab-df-convert {\n",
              "      background-color: #3B4455;\n",
              "      fill: #D2E3FC;\n",
              "    }\n",
              "\n",
              "    [theme=dark] .colab-df-convert:hover {\n",
              "      background-color: #434B5C;\n",
              "      box-shadow: 0px 1px 3px 1px rgba(0, 0, 0, 0.15);\n",
              "      filter: drop-shadow(0px 1px 2px rgba(0, 0, 0, 0.3));\n",
              "      fill: #FFFFFF;\n",
              "    }\n",
              "  </style>\n",
              "\n",
              "      <script>\n",
              "        const buttonEl =\n",
              "          document.querySelector('#df-38ff3c5c-7bcf-4f94-8565-f3728491bdcb button.colab-df-convert');\n",
              "        buttonEl.style.display =\n",
              "          google.colab.kernel.accessAllowed ? 'block' : 'none';\n",
              "\n",
              "        async function convertToInteractive(key) {\n",
              "          const element = document.querySelector('#df-38ff3c5c-7bcf-4f94-8565-f3728491bdcb');\n",
              "          const dataTable =\n",
              "            await google.colab.kernel.invokeFunction('convertToInteractive',\n",
              "                                                     [key], {});\n",
              "          if (!dataTable) return;\n",
              "\n",
              "          const docLinkHtml = 'Like what you see? Visit the ' +\n",
              "            '<a target=\"_blank\" href=https://colab.research.google.com/notebooks/data_table.ipynb>data table notebook</a>'\n",
              "            + ' to learn more about interactive tables.';\n",
              "          element.innerHTML = '';\n",
              "          dataTable['output_type'] = 'display_data';\n",
              "          await google.colab.output.renderOutput(dataTable, element);\n",
              "          const docLink = document.createElement('div');\n",
              "          docLink.innerHTML = docLinkHtml;\n",
              "          element.appendChild(docLink);\n",
              "        }\n",
              "      </script>\n",
              "    </div>\n",
              "  </div>\n",
              "  "
            ]
          },
          "metadata": {},
          "execution_count": 2
        }
      ],
      "source": [
        "# Load Data\n",
        "text_data = pd.read_csv('/content/text_data.csv') # Read data remember (meta_author will be the target)\n",
        "text_data.head()"
      ]
    },
    {
      "cell_type": "code",
      "source": [
        "# Encode\n",
        "X = text_data.iloc[:, 3:8563] # All columns everything except meta & title\n",
        "le = preprocessing.LabelEncoder()\n",
        "labels = text_data['meta_author']\n",
        "le.fit(labels)\n",
        "y=le.transform(labels)\n",
        " "
      ],
      "metadata": {
        "id": "N2KW7hOsTHks"
      },
      "execution_count": null,
      "outputs": []
    },
    {
      "cell_type": "code",
      "source": [
        "# Create the decision tree here Randomstate=42 90% training and 10% testing\n",
        "# Train/Test Split\n",
        "x_train, x_test, y_train, y_test = train_test_split(X, y, test_size=0.10, random_state=42)"
      ],
      "metadata": {
        "id": "V6Q3InMnxERd"
      },
      "execution_count": null,
      "outputs": []
    },
    {
      "cell_type": "code",
      "source": [
        "# Standard Decision Tree\n",
        "clf_control = tree.DecisionTreeClassifier()\n",
        "clf_control = clf_control.fit(x_train,y_train)"
      ],
      "metadata": {
        "id": "xtSWBRzko-hY"
      },
      "execution_count": null,
      "outputs": []
    },
    {
      "cell_type": "code",
      "source": [
        "# Training Accuracy of Standard Decision Tree\n",
        "clf_control.score(x_train, y_train)"
      ],
      "metadata": {
        "colab": {
          "base_uri": "https://localhost:8080/"
        },
        "id": "i6fpER6fpYID",
        "outputId": "024bcac8-0765-42d7-c4a9-d9496c0ed410"
      },
      "execution_count": null,
      "outputs": [
        {
          "output_type": "execute_result",
          "data": {
            "text/plain": [
              "1.0"
            ]
          },
          "metadata": {},
          "execution_count": 14
        }
      ]
    },
    {
      "cell_type": "code",
      "source": [
        "# Testing Accuracy of Standard Decision Tree\n",
        "clf_control.score(x_test, y_test)"
      ],
      "metadata": {
        "colab": {
          "base_uri": "https://localhost:8080/"
        },
        "id": "obEuUUaqpbsY",
        "outputId": "f14e4199-c035-4b9a-ec43-9d005d1a22d1"
      },
      "execution_count": null,
      "outputs": [
        {
          "output_type": "execute_result",
          "data": {
            "text/plain": [
              "0.4444444444444444"
            ]
          },
          "metadata": {},
          "execution_count": 15
        }
      ]
    },
    {
      "cell_type": "markdown",
      "source": [
        "\n",
        "The standard decision tree outputs an accuracy of 44% with a 90/10 train/test split. "
      ],
      "metadata": {
        "id": "ShsCw2LnqZ_i"
      }
    },
    {
      "cell_type": "markdown",
      "source": [
        ""
      ],
      "metadata": {
        "id": "h9IrfeEYq1kj"
      }
    },
    {
      "cell_type": "code",
      "source": [
        "#Create a loop of max depth from 1 to 16 similar to previous step and plot the accuracy \n",
        "train_errors = list()\n",
        "test_errors = list()\n",
        "\n",
        "\n",
        "for x in range(1,16): # Tree depth is varied in a loop from 3 to 10\n",
        "  \n",
        "  #Create multiple models here each based on the x variable above\n",
        "  clf = tree.DecisionTreeClassifier(max_depth=x)\n",
        "  clf = clf.fit(x_train,y_train)\n",
        "\n",
        "  # Store the result of modes in train_erors and test_errors variables\n",
        "  train_errors.append(clf.score(x_train, y_train)) # Train Accuracy\n",
        "  test_errors.append(clf.score(x_test, y_test))    # Test Accuracy\n",
        "\n",
        "  "
      ],
      "metadata": {
        "id": "i6ZBgg9UTIuW"
      },
      "execution_count": null,
      "outputs": []
    },
    {
      "cell_type": "code",
      "source": [
        "# Accuracy of test set\n",
        "test_errors"
      ],
      "metadata": {
        "colab": {
          "base_uri": "https://localhost:8080/"
        },
        "id": "gSeMnogKod4K",
        "outputId": "054b06d4-1f13-4cab-ecd3-d3c7cded1ff3"
      },
      "execution_count": null,
      "outputs": [
        {
          "output_type": "execute_result",
          "data": {
            "text/plain": [
              "[0.3333333333333333,\n",
              " 0.2222222222222222,\n",
              " 0.6666666666666666,\n",
              " 0.3333333333333333,\n",
              " 0.6666666666666666,\n",
              " 0.3333333333333333,\n",
              " 0.3333333333333333,\n",
              " 0.6666666666666666,\n",
              " 0.3333333333333333,\n",
              " 0.6666666666666666,\n",
              " 0.3333333333333333,\n",
              " 0.3333333333333333,\n",
              " 0.3333333333333333,\n",
              " 0.6666666666666666,\n",
              " 0.6666666666666666]"
            ]
          },
          "metadata": {},
          "execution_count": 9
        }
      ]
    },
    {
      "cell_type": "code",
      "source": [
        "# Plot of test and training errors\n",
        "plt.plot(range(1,16),train_errors, label='Train')\n",
        "plt.plot(range(1,16),test_errors, label='Tester')\n",
        "plt.legend(loc='upper left')\n",
        "plt.xlabel('Depth Parameter')\n",
        "plt.ylabel('Performance')"
      ],
      "metadata": {
        "colab": {
          "base_uri": "https://localhost:8080/",
          "height": 296
        },
        "id": "s7V6DQxB-VMc",
        "outputId": "4c4dc62a-5c38-453d-c468-082ab9130da9"
      },
      "execution_count": null,
      "outputs": [
        {
          "output_type": "execute_result",
          "data": {
            "text/plain": [
              "Text(0, 0.5, 'Performance')"
            ]
          },
          "metadata": {},
          "execution_count": 10
        },
        {
          "output_type": "display_data",
          "data": {
            "text/plain": [
              "<Figure size 432x288 with 1 Axes>"
            ],
            "image/png": "[encoded data removed]"
          },
          "metadata": {
            "needs_background": "light"
          }
        }
      ]
    },
    {
      "cell_type": "code",
      "source": [
        "# With a simple code, you can see the frequency of the words\n",
        "text_frequecies = X.sum()\n",
        "text_frequecies = text_frequecies.sort_values()\n",
        "display(text_frequecies)\n",
        "kept_words = text_frequecies[text_frequecies<2]\n",
        "# this line (above) first creates a binary vector for each word, telling us if it appears twice or more\n",
        "# in the dataset. it then uses that vector to index into text_frequencies to subset only the data\n",
        "# for which this binary vector evaluates to TRUE. This simple indexing can really help to chop through\n",
        "# a huge pandas dataframe.\n",
        "print(kept_words)\n",
        "small_vocab_X= X [kept_words.index]\n",
        "# notice how kept_words.index is a list of strings, the same you can use to access the headers of X.."
      ],
      "metadata": {
        "colab": {
          "base_uri": "https://localhost:8080/",
          "height": 425
        },
        "id": "P4RPUCpuTLDN",
        "outputId": "872c3b8d-b989-41c0-cff6-4da36307f774"
      },
      "execution_count": null,
      "outputs": [
        {
          "output_type": "display_data",
          "data": {
            "text/plain": [
              "inquest         1\n",
              "devolving       1\n",
              "devote          1\n",
              "pact            1\n",
              "packet          1\n",
              "             ... \n",
              "other         646\n",
              "all           731\n",
              "state         786\n",
              "government    829\n",
              "states        851\n",
              "Length: 8560, dtype: int64"
            ]
          },
          "metadata": {}
        },
        {
          "output_type": "stream",
          "name": "stdout",
          "text": [
            "inquest           1\n",
            "devolving         1\n",
            "devote            1\n",
            "pact              1\n",
            "packet            1\n",
            "                 ..\n",
            "citadel           1\n",
            "semicolon         1\n",
            "watchfulness      1\n",
            "circumstantial    1\n",
            "achieved          1\n",
            "Length: 2975, dtype: int64\n"
          ]
        }
      ]
    },
    {
      "cell_type": "code",
      "source": [
        "# Now repeat the previous analysis (design model by changing the model depth \n",
        "#from 1 to 16) with smaller word dataset small_vocab_X\n",
        "\n",
        "x_train_s, x_test_s, y_train, y_test = train_test_split(small_vocab_X, y, test_size=0.10, random_state=42)\n",
        "\n",
        "\n",
        "#Create a loop of max depth from 1 to 16 similar to previous step and plot the accuracy \n",
        "train_errors_s = list()\n",
        "test_errors_s = list()\n",
        "\n",
        "for x in range(1,16): # Tree depth is varied in a loop from 3 to 10\n",
        "  \n",
        "  #Create multiple models here each based on the x variable above\n",
        "  small_clf = tree.DecisionTreeClassifier(max_depth=x)\n",
        "  small_clf = small_clf.fit(x_train_s,y_train)\n",
        "\n",
        "  # Store the result of modes in train_erors and test_errors variables\n",
        "  train_errors_s.append(small_clf.score(x_train_s, y_train)) # Train Errors\n",
        "  test_errors_s.append(small_clf.score(x_test_s, y_test))    # Test Errors\n",
        "\n",
        "# Plot of test and training errors\n",
        "plt.plot(range(1,16),train_errors_s, label='Train') # Train Accuracy\n",
        "plt.plot(range(1,16),test_errors_s, label='Test') # Test Accuracy\n",
        "plt.legend(loc='upper left')\n",
        "plt.xlabel('Depth Parameter')\n",
        "plt.ylabel('Performance')\n",
        "\n",
        "\n"
      ],
      "metadata": {
        "colab": {
          "base_uri": "https://localhost:8080/",
          "height": 296
        },
        "id": "cxDpYhUhTO7o",
        "outputId": "9971caa9-cc5f-4c46-f81c-973617cf2afe"
      },
      "execution_count": null,
      "outputs": [
        {
          "output_type": "execute_result",
          "data": {
            "text/plain": [
              "Text(0, 0.5, 'Performance')"
            ]
          },
          "metadata": {},
          "execution_count": 12
        },
        {
          "output_type": "display_data",
          "data": {
            "text/plain": [
              "<Figure size 432x288 with 1 Axes>"
            ],
            "image/png": "[encoded data removed]"
          },
          "metadata": {
            "needs_background": "light"
          }
        }
      ]
    },
    {
      "cell_type": "markdown",
      "source": [
        "**Most frequent words**"
      ],
      "metadata": {
        "id": "PW7LJcfuTPYw"
      }
    },
    {
      "cell_type": "code",
      "source": [
        "# Same as before create the most frequent words\n",
        "kept_words2 = text_frequecies[text_frequecies>100]\n",
        "# this line (above) first creates a binary vector for each word, telling us if it appears twice or more\n",
        "# in the dataset. it then uses that vector to index into text_frequencies to subset only the data\n",
        "# for which this binary vector evaluates to TRUE. This simple indexing can really help to chop through\n",
        "# a huge pandas dataframe.\n",
        "print(kept_words2)\n",
        "large_vocab_X= X [kept_words2.index]"
      ],
      "metadata": {
        "colab": {
          "base_uri": "https://localhost:8080/"
        },
        "id": "0NrGyidrTRLv",
        "outputId": "29560da6-b580-4ffa-afa8-68a3e077fccd"
      },
      "execution_count": null,
      "outputs": [
        {
          "output_type": "stream",
          "name": "stdout",
          "text": [
            "principles      101\n",
            "often           102\n",
            "jurisdiction    103\n",
            "right           103\n",
            "court           104\n",
            "               ... \n",
            "other           646\n",
            "all             731\n",
            "state           786\n",
            "government      829\n",
            "states          851\n",
            "Length: 150, dtype: int64\n"
          ]
        }
      ]
    },
    {
      "cell_type": "code",
      "source": [
        "# Now repeat the previous analysis (design model by changing the model depth \n",
        "#from 1 to 16) with smaller word dataset large_vocab_X\n",
        "\n",
        "\n",
        "# Create the decision tree here Randomstate=42 90% training and 10% testing\n",
        "# Train/Test Split\n",
        "x_train_l, x_test_l, y_train, y_test = train_test_split(large_vocab_X, y, test_size=0.10, random_state=42)\n",
        "\n",
        "#Create a loop of max depth from 1 to 16 similar to previous step and plot the accuracy \n",
        "train_errors_l = list()\n",
        "test_errors_l = list()\n",
        "\n",
        "for x in range(1,16): # Tree depth is varied in a loop from 3 to 10\n",
        "  \n",
        "  #Create multiple models here each based on the x variable above\n",
        "  large_clf = tree.DecisionTreeClassifier(max_depth=x)\n",
        "  large_clf = large_clf.fit(x_train_l,y_train)\n",
        "\n",
        "  # Store the result of modes in train_erors and test_errors variables\n",
        "  train_errors_l.append(large_clf.score(x_train_l, y_train)) # Train Errors\n",
        "  test_errors_l.append(large_clf.score(x_test_l, y_test))    # Test Errors\n",
        "\n",
        "# Plot of test and training errors\n",
        "plt.plot(range(1,16),train_errors_l, label='Train') # Train Accuracy\n",
        "plt.plot(range(1,16),test_errors_l, label='Test') # Test Accuracy\n",
        "plt.legend(loc='upper left')\n",
        "plt.xlabel('Depth Parameter')\n",
        "plt.ylabel('Performance')"
      ],
      "metadata": {
        "colab": {
          "base_uri": "https://localhost:8080/",
          "height": 296
        },
        "id": "ypgz_y6zTS15",
        "outputId": "669fe10d-5b8e-43f3-f624-ef64a9be23b7"
      },
      "execution_count": null,
      "outputs": [
        {
          "output_type": "execute_result",
          "data": {
            "text/plain": [
              "Text(0, 0.5, 'Performance')"
            ]
          },
          "metadata": {},
          "execution_count": 14
        },
        {
          "output_type": "display_data",
          "data": {
            "text/plain": [
              "<Figure size 432x288 with 1 Axes>"
            ],
            "image/png": "[encoded data removed]"
          },
          "metadata": {
            "needs_background": "light"
          }
        }
      ]
    },
    {
      "cell_type": "code",
      "source": [
        "\n",
        "# All Models Train Performance\n",
        "plt.plot(range(1,16),train_errors, label='Original') # Original Train X\n",
        "plt.plot(range(1,16),train_errors_s, label='Small Vocab') # Small Vocab Train Accuracy\n",
        "plt.plot(range(1,16),train_errors_l, label='Large Vocab') # Large Vocab Train Accuracy\n",
        "plt.title(\"Train Performance\")\n",
        "plt.legend(loc='lower right')\n",
        "plt.xlabel('Depth parameter')\n",
        "plt.ylabel('Performance')\n"
      ],
      "metadata": {
        "colab": {
          "base_uri": "https://localhost:8080/",
          "height": 312
        },
        "id": "OPUelb0LTVip",
        "outputId": "bc11f6a9-daaf-4b07-cd3b-564369cbf72d"
      },
      "execution_count": null,
      "outputs": [
        {
          "output_type": "execute_result",
          "data": {
            "text/plain": [
              "Text(0, 0.5, 'Performance')"
            ]
          },
          "metadata": {},
          "execution_count": 15
        },
        {
          "output_type": "display_data",
          "data": {
            "text/plain": [
              "<Figure size 432x288 with 1 Axes>"
            ],
            "image/png": "[encoded data removed]"
          },
          "metadata": {
            "needs_background": "light"
          }
        }
      ]
    },
    {
      "cell_type": "code",
      "source": [
        "# All Models Test Performance\n",
        "plt.plot(range(1,16),test_errors, label='Original') # Orignal Test X\n",
        "plt.plot(range(1,16),test_errors_s, label='Small Vocab') # Small Vocab Test Accuracy\n",
        "plt.plot(range(1,16),test_errors_l, label='Large Vocab') # Large Vocab Test Accuracy\n",
        "plt.title(\"Test Performance\")\n",
        "plt.legend(loc='center right')\n",
        "plt.xlabel('Depth parameter')\n",
        "plt.ylabel('Performance')"
      ],
      "metadata": {
        "colab": {
          "base_uri": "https://localhost:8080/",
          "height": 312
        },
        "id": "8DrZ6pa5LxGK",
        "outputId": "0ad25307-128e-45c0-f602-e9c083d1a4d8"
      },
      "execution_count": null,
      "outputs": [
        {
          "output_type": "execute_result",
          "data": {
            "text/plain": [
              "Text(0, 0.5, 'Performance')"
            ]
          },
          "metadata": {},
          "execution_count": 16
        },
        {
          "output_type": "display_data",
          "data": {
            "text/plain": [
              "<Figure size 432x288 with 1 Axes>"
            ],
            "image/png": "[encoded data removed]"
          },
          "metadata": {
            "needs_background": "light"
          }
        }
      ]
    },
    {
      "cell_type": "code",
      "source": [
        "# Explain your understanding from the graph"
      ],
      "metadata": {
        "id": "LLXgmmgAL81_"
      },
      "execution_count": null,
      "outputs": []
    }
  ]
}