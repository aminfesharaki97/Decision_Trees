{
 "cells": [
  {
   "cell_type": "markdown",
   "metadata": {},
   "source": [
    "# Naives Bayes Classification "
   ]
  },
  {
   "cell_type": "code",
   "execution_count": 2,
   "metadata": {},
   "outputs": [],
   "source": [
    "import pandas as pd\n",
    "import numpy as np\n",
    "from sklearn.naive_bayes import MultinomialNB\n",
    "from sklearn.metrics import confusion_matrix\n",
    "import statsmodels.tools.tools as stattools"
   ]
  },
  {
   "cell_type": "code",
   "execution_count": 3,
   "metadata": {},
   "outputs": [],
   "source": [
    "# Import Data\n",
    "fram_train = pd.read_csv(\"/Users/datascience/Desktop/ADS 502 Data Sets/Website Data Sets/framingham_nb_training.csv\")\n",
    "fram_test = pd.read_csv(\"/Users/datascience/Desktop/ADS 502 Data Sets/Website Data Sets/framingham_nb_test.csv\")\n",
    "fram_train = fram_train[['Sex','Educ','Death']]\n",
    "fram_test = fram_test[['Sex','Educ','Death']]"
   ]
  },
  {
   "cell_type": "markdown",
   "metadata": {},
   "source": [
    "## 31. Run the Naïve Bayes classifier to classify persons as living or dead based on sex and education."
   ]
  },
  {
   "cell_type": "code",
   "execution_count": 9,
   "metadata": {},
   "outputs": [],
   "source": [
    "X_train = fram_train[['Sex', 'Educ']]\n",
    "y_train = fram_train['Death']\n",
    "\n",
    "X_train_processed = pd.DataFrame()\n",
    "\n",
    "for var in X_train.columns:\n",
    "    dummies = pd.get_dummies(X_train[var])\n",
    "    X_train_processed = pd.concat([X_train_processed, dummies], axis=1) \n",
    "\n",
    "nb = MultinomialNB().fit(X_train_processed, y_train)\n"
   ]
  },
  {
   "cell_type": "markdown",
   "metadata": {},
   "source": [
    "## 32. Evaluate the Naïve Bayes model on the framingham_nb_test dataset. Display the results in a contingency table. Edit the row and column names of the table to make the table more readable. Include a total row and column."
   ]
  },
  {
   "cell_type": "code",
   "execution_count": 23,
   "metadata": {},
   "outputs": [],
   "source": [
    "X_test = fram_test[['Sex', 'Educ']]\n",
    "y_test = fram_test['Death'] \n",
    "\n",
    "X_test_processed = pd.DataFrame()\n",
    "\n",
    "for var in X_test.columns:\n",
    "    dummies = pd.get_dummies(X_test[var])\n",
    "    X_test_processed = pd.concat([X_test_processed, dummies], axis=1) \n",
    "\n",
    "pred = nb.predict(X_test_processed)\n",
    "\n",
    "ypred = pd.crosstab(y_test, pred, rownames = ['Actual'], colnames = ['Predicted'])\n",
    "ypred['Total'] = ypred.sum(axis=1); ypred.loc['Total'] = ypred.sum() \n"
   ]
  },
  {
   "cell_type": "markdown",
   "metadata": {},
   "source": [
    "## 33. According to your table in the previous exercise, find the following values for the Naïve Bayes model: (a) Accuracy, (b) Error Rate"
   ]
  },
  {
   "cell_type": "code",
   "execution_count": 10,
   "metadata": {},
   "outputs": [
    {
     "name": "stdout",
     "output_type": "stream",
     "text": [
      "Accuracy:  0.573 \n",
      "Error Rate:  0.42700000000000005\n"
     ]
    }
   ],
   "source": [
    "# Evaluation Metrics\n",
    "TN = ypred[0][0]\n",
    "FP = ypred[0][1]\n",
    "FN = ypred[1][0]\n",
    "TP = ypred[1][1]\n",
    "GT = TN + FP + TP + FN\n",
    "\n",
    "#Accuracy \n",
    "Acc = (TN + TP) / (GT)\n",
    "\n",
    "# Error Rate\n",
    "Error = 1 - Acc\n",
    "\n",
    "print('Accuracy: ', Acc, '\\nError Rate: ', Error)"
   ]
  },
  {
   "cell_type": "markdown",
   "metadata": {},
   "source": [
    "## 34. According to your contingency table, find the following values for the Naïve Bayes model: (a) How often it correctly classifies dead persons, (b) How often it correctly classifies living persons."
   ]
  },
  {
   "cell_type": "markdown",
   "metadata": {},
   "source": [
    "(a) The model correctly classifies a dead person 77% (370/475) of the time."
   ]
  },
  {
   "cell_type": "markdown",
   "metadata": {},
   "source": [
    "(b) The model correctly classifies an alive person 39% (203/525) of the time"
   ]
  }
 ],
 "metadata": {
  "kernelspec": {
   "display_name": "Python 3",
   "language": "python",
   "name": "python3"
  },
  "language_info": {
   "codemirror_mode": {
    "name": "ipython",
    "version": 3
   },
   "file_extension": ".py",
   "mimetype": "text/x-python",
   "name": "python",
   "nbconvert_exporter": "python",
   "pygments_lexer": "ipython3",
   "version": "3.8.5"
  }
 },
 "nbformat": 4,
 "nbformat_minor": 4
}
